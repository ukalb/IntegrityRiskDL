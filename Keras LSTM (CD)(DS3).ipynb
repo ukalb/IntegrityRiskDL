{
 "cells": [
  {
   "cell_type": "code",
   "execution_count": 1,
   "metadata": {},
   "outputs": [],
   "source": [
    "#Model: LSTM\n",
    "#Word Embedding: Custom\n",
    "#Dataset: 3\n",
    "#based on: http://www.insightsbot.com/blog/1wAqZg/keras-lstm-example-sequence-binary-classification\n",
    "#https://github.com/keras-team/keras/blob/master/examples/imdb_lstm.py\n",
    "\n",
    "import os\n",
    "\n",
    "def GetTextFilePathsInDirectory(directory):\n",
    "    files = []\n",
    "    for file in os.listdir(directory):\n",
    "        if file.endswith(\".txt\"):\n",
    "            filePath = os.path.join(directory, file)\n",
    "            files.append(filePath)\n",
    "    return files\n",
    "\n",
    "def GetLinesFromTextFile(filePath):\n",
    "    with open(filePath,\"r\", encoding=\"utf-8\") as f:\n",
    "        lines = [line.strip() for line in f]\n",
    "    return lines"
   ]
  },
  {
   "cell_type": "code",
   "execution_count": 2,
   "metadata": {},
   "outputs": [],
   "source": [
    "positive_files = GetTextFilePathsInDirectory(\"./dataset3/positive\")\n",
    "negative_files = GetTextFilePathsInDirectory(\"./dataset3/negative\")\n",
    "\n",
    "reviews_positive = []\n",
    "for i in range(0,1620):\n",
    "    reviews_positive.extend(GetLinesFromTextFile(positive_files[i]))\n",
    "    \n",
    "reviews_negative = []\n",
    "for i in range(0,1620):\n",
    "    reviews_negative.extend(GetLinesFromTextFile(negative_files[i]))"
   ]
  },
  {
   "cell_type": "code",
   "execution_count": 4,
   "metadata": {},
   "outputs": [],
   "source": [
    "import nltk\n",
    "import re\n",
    "\n",
    "REPLACE_NO_SPACE = re.compile(\"(\\.)|(\\;)|(\\:)|(\\!)|(\\')|(\\?)|(\\,)|(\\\")|(\\()|(\\))|(\\[)|(\\])$&%=#•~@£©®→°€™›♥←×§″′Â█½à…“★”–●â►¢²¬░¶↑±¿▾¦║―¥▓▒¼⊕▼▪†■▀¨▄♫☆é♦¤▲è¾Ã∞∙↓、,│»♪╩╚³・╦╣╔╗▬❤ïØ¹≤‡√\")\n",
    "REPLACE_WITH_SPACE = re.compile(\"(<br\\s*/><br\\s*/>)|(\\-)|(\\/)\")\n",
    "\n",
    "def preprocess_reviews(reviews):\n",
    "    default_stop_words = nltk.corpus.stopwords.words('german')\n",
    "    stopwords = set(default_stop_words)\n",
    "    \n",
    "    reviews = [REPLACE_NO_SPACE.sub(\"\", line.lower()) for line in reviews]\n",
    "    reviews = [REPLACE_WITH_SPACE.sub(\" \", line) for line in reviews]\n",
    "    reviews = [RemoveStopWords(line,stopwords) for line in reviews]\n",
    "    \n",
    "    return reviews\n",
    "\n",
    "def RemoveStopWords(line, stopwords):\n",
    "    words = []\n",
    "    for word in line.split(\" \"):\n",
    "        word = word.strip()\n",
    "        if word not in stopwords and word != \"\" and word != \"&\":\n",
    "            words.append(word)\n",
    "\n",
    "    return \" \".join(words)\n",
    "\n",
    " "
   ]
  },
  {
   "cell_type": "code",
   "execution_count": 5,
   "metadata": {},
   "outputs": [],
   "source": [
    "reviews_positive = preprocess_reviews(reviews_positive)\n",
    "reviews_negative = preprocess_reviews(reviews_negative)"
   ]
  },
  {
   "cell_type": "code",
   "execution_count": 6,
   "metadata": {},
   "outputs": [],
   "source": [
    "import numpy as np\n",
    "Reviews_Labeled = list(zip(reviews_positive, np.ones(len(reviews_positive))))\n",
    "Reviews_Labeled.extend(list(zip(reviews_negative, np.zeros(len(reviews_negative)))))"
   ]
  },
  {
   "cell_type": "code",
   "execution_count": 7,
   "metadata": {},
   "outputs": [],
   "source": [
    "from collections import Counter\n",
    "import json\n",
    "class Vocabulary:\n",
    "    \n",
    "    def __init__(self, vocabulary, wordFrequencyFilePath):\n",
    "        self.vocabulary = vocabulary\n",
    "        self.WORD_FREQUENCY_FILE_FULL_PATH = wordFrequencyFilePath\n",
    "        self.input_word_index = {}\n",
    "        self.reverse_input_word_index = {}\n",
    "        \n",
    "        self.MaxSentenceLength = None\n",
    "        \n",
    "    def PrepareVocabulary(self,reviews):\n",
    "        self._prepare_Word_Frequency_Count_File(reviews)\n",
    "        self._create_Vocab_Indexes()\n",
    "        \n",
    "        self.MaxSentenceLength = max([len(txt.split(\" \")) for txt in reviews])\n",
    "      \n",
    "    def Get_Top_Words(self, number_words = None):\n",
    "        if number_words == None:\n",
    "            number_words = self.vocabulary\n",
    "        \n",
    "        chars = json.loads(open(self.WORD_FREQUENCY_FILE_FULL_PATH).read())\n",
    "        counter = Counter(chars)\n",
    "        most_popular_words = {key for key, _value in counter.most_common(number_words)}\n",
    "        return most_popular_words\n",
    "    \n",
    "    def _prepare_Word_Frequency_Count_File(self,reviews):\n",
    "        counter = Counter()    \n",
    "        for s in reviews:\n",
    "            counter.update(s.split(\" \"))\n",
    "            \n",
    "        with open(self.WORD_FREQUENCY_FILE_FULL_PATH, 'w') as output_file:\n",
    "            output_file.write(json.dumps(counter))\n",
    "                 \n",
    "    def _create_Vocab_Indexes(self):\n",
    "        INPUT_WORDS = self.Get_Top_Words(self.vocabulary)\n",
    "\n",
    "        for i, word in enumerate(INPUT_WORDS):\n",
    "            self.input_word_index[word] = i\n",
    "        \n",
    "        for word, i in self.input_word_index.items():\n",
    "            self.reverse_input_word_index[i] = word\n",
    "       \n",
    "    def TransformSentencesToId(self, sentences):\n",
    "        vectors = []\n",
    "        for r in sentences:\n",
    "            words = r.split(\" \")\n",
    "            vector = np.zeros(len(words))\n",
    "\n",
    "            for t, word in enumerate(words):\n",
    "                if word in self.input_word_index:\n",
    "                    vector[t] = self.input_word_index[word]\n",
    "                else:\n",
    "                    pass\n",
    "                \n",
    "            vectors.append(vector)\n",
    "            \n",
    "        return vectors\n",
    "    \n",
    "    def ReverseTransformSentencesToId(self, sentences):\n",
    "        vectors = []\n",
    "        for r in sentences:\n",
    "            words = r.split(\" \")\n",
    "            vector = np.zeros(len(words))\n",
    "\n",
    "            for t, word in enumerate(words):\n",
    "                if word in self.input_word_index:\n",
    "                    vector[t] = self.input_word_index[word]\n",
    "                else:\n",
    "                    pass\n",
    "                    #vector[t] = 2 #unk\n",
    "            vectors.append(vector)\n",
    "            \n",
    "        return vectors"
   ]
  },
  {
   "cell_type": "code",
   "execution_count": 8,
   "metadata": {},
   "outputs": [],
   "source": [
    "TOP_WORDS = 500\n",
    "vocab = Vocabulary(TOP_WORDS,\"analysis10.vocab\")\n",
    "\n",
    "reviews_text = [line[0] for line in Reviews_Labeled]\n",
    "vocab.PrepareVocabulary(reviews_text)"
   ]
  },
  {
   "cell_type": "code",
   "execution_count": 9,
   "metadata": {},
   "outputs": [],
   "source": [
    "reviews,labels=zip(*Reviews_Labeled)\n",
    "reviews_int = vocab.TransformSentencesToId(reviews)\n",
    "\n",
    "Reviews_Labeled_Int = list(zip(reviews_int,labels))"
   ]
  },
  {
   "cell_type": "code",
   "execution_count": 10,
   "metadata": {},
   "outputs": [],
   "source": [
    "from sklearn.model_selection import train_test_split\n",
    "train, test = train_test_split(Reviews_Labeled_Int, test_size=0.2)"
   ]
  },
  {
   "cell_type": "code",
   "execution_count": 11,
   "metadata": {},
   "outputs": [],
   "source": [
    "X_train, y_train = list(zip(*train))\n",
    "X_test, y_test = list(zip(*test))\n",
    "\n",
    "y_train = np.array(y_train)\n",
    "y_test = np.array(y_test)"
   ]
  },
  {
   "cell_type": "code",
   "execution_count": 12,
   "metadata": {},
   "outputs": [
    {
     "name": "stderr",
     "output_type": "stream",
     "text": [
      "Using TensorFlow backend.\n"
     ]
    }
   ],
   "source": [
    "from keras.preprocessing import sequence \n",
    "max_review_length = 500 \n",
    "X_train = sequence.pad_sequences(X_train, maxlen=max_review_length) \n",
    "X_test = sequence.pad_sequences(X_test, maxlen=max_review_length) "
   ]
  },
  {
   "cell_type": "code",
   "execution_count": 13,
   "metadata": {
    "scrolled": false
   },
   "outputs": [
    {
     "name": "stdout",
     "output_type": "stream",
     "text": [
      "WARNING:tensorflow:From /home/ender/.local/lib/python3.6/site-packages/tensorflow/python/framework/op_def_library.py:263: colocate_with (from tensorflow.python.framework.ops) is deprecated and will be removed in a future version.\n",
      "Instructions for updating:\n",
      "Colocations handled automatically by placer.\n",
      "_________________________________________________________________\n",
      "Layer (type)                 Output Shape              Param #   \n",
      "=================================================================\n",
      "embedding_1 (Embedding)      (None, 500, 32)           16000     \n",
      "_________________________________________________________________\n",
      "lstm_1 (LSTM)                (None, 100)               53200     \n",
      "_________________________________________________________________\n",
      "dense_1 (Dense)              (None, 1)                 101       \n",
      "=================================================================\n",
      "Total params: 69,301\n",
      "Trainable params: 69,301\n",
      "Non-trainable params: 0\n",
      "_________________________________________________________________\n",
      "None\n"
     ]
    }
   ],
   "source": [
    "from keras.models import Sequential\n",
    "from keras.layers import Dense, Activation, Embedding, LSTM\n",
    "import keras \n",
    "\n",
    "embedding_vector_length = 32\n",
    "model = Sequential()\n",
    "model.add(Embedding(TOP_WORDS, embedding_vector_length, input_length=max_review_length))\n",
    "model.add(LSTM(100))\n",
    "model.add(Dense(1, activation='sigmoid'))\n",
    "model.compile(loss='binary_crossentropy', optimizer='adam', metrics=['accuracy'])\n",
    "print(model.summary())"
   ]
  },
  {
   "cell_type": "code",
   "execution_count": 14,
   "metadata": {},
   "outputs": [
    {
     "name": "stdout",
     "output_type": "stream",
     "text": [
      "WARNING:tensorflow:From /home/ender/.local/lib/python3.6/site-packages/tensorflow/python/ops/math_ops.py:3066: to_int32 (from tensorflow.python.ops.math_ops) is deprecated and will be removed in a future version.\n",
      "Instructions for updating:\n",
      "Use tf.cast instead.\n",
      "Train on 58620 samples, validate on 14655 samples\n",
      "Epoch 1/10\n",
      "58620/58620 [==============================] - 1052s 18ms/step - loss: 0.5460 - acc: 0.7498 - val_loss: 0.5270 - val_acc: 0.7543\n",
      "Epoch 2/10\n",
      "58620/58620 [==============================] - 570s 10ms/step - loss: 0.5160 - acc: 0.7665 - val_loss: 0.5363 - val_acc: 0.7608\n",
      "Epoch 3/10\n",
      "58620/58620 [==============================] - 571s 10ms/step - loss: 0.5134 - acc: 0.7624 - val_loss: 0.5214 - val_acc: 0.7487\n",
      "Epoch 4/10\n",
      "58620/58620 [==============================] - 571s 10ms/step - loss: 0.5092 - acc: 0.7666 - val_loss: 0.5086 - val_acc: 0.7681\n",
      "Epoch 5/10\n",
      "58620/58620 [==============================] - 571s 10ms/step - loss: 0.4980 - acc: 0.7775 - val_loss: 0.5107 - val_acc: 0.7684\n",
      "Epoch 6/10\n",
      "58620/58620 [==============================] - 568s 10ms/step - loss: 0.4990 - acc: 0.7733 - val_loss: 0.5136 - val_acc: 0.7597\n",
      "Epoch 7/10\n",
      "58620/58620 [==============================] - 570s 10ms/step - loss: 0.5018 - acc: 0.7704 - val_loss: 0.5373 - val_acc: 0.7415\n",
      "Epoch 8/10\n",
      "58620/58620 [==============================] - 568s 10ms/step - loss: 0.4987 - acc: 0.7735 - val_loss: 0.5079 - val_acc: 0.7705\n",
      "Epoch 9/10\n",
      "58620/58620 [==============================] - 571s 10ms/step - loss: 0.4886 - acc: 0.7842 - val_loss: 0.5067 - val_acc: 0.7703\n",
      "Epoch 10/10\n",
      "58620/58620 [==============================] - 567s 10ms/step - loss: 0.4860 - acc: 0.7854 - val_loss: 0.5033 - val_acc: 0.7750\n"
     ]
    },
    {
     "data": {
      "text/plain": [
       "<keras.callbacks.History at 0x7fd67225d0b8>"
      ]
     },
     "execution_count": 14,
     "metadata": {},
     "output_type": "execute_result"
    }
   ],
   "source": [
    "model.fit(X_train, y_train, validation_data=(X_test, y_test), epochs=10, batch_size=64)"
   ]
  },
  {
   "cell_type": "code",
   "execution_count": null,
   "metadata": {},
   "outputs": [],
   "source": []
  },
  {
   "cell_type": "code",
   "execution_count": null,
   "metadata": {},
   "outputs": [],
   "source": []
  }
 ],
 "metadata": {
  "kernelspec": {
   "display_name": "Python 3",
   "language": "python",
   "name": "python3"
  },
  "language_info": {
   "codemirror_mode": {
    "name": "ipython",
    "version": 3
   },
   "file_extension": ".py",
   "mimetype": "text/x-python",
   "name": "python",
   "nbconvert_exporter": "python",
   "pygments_lexer": "ipython3",
   "version": "3.6.7"
  }
 },
 "nbformat": 4,
 "nbformat_minor": 2
}
